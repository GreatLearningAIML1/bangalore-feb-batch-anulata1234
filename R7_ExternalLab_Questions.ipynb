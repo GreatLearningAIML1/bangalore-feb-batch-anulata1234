{
  "nbformat": 4,
  "nbformat_minor": 0,
  "metadata": {
    "colab": {
      "name": "R7_ExternalLab_Questions.ipynb",
      "version": "0.3.2",
      "provenance": [],
      "collapsed_sections": []
    },
    "kernelspec": {
      "name": "python3",
      "display_name": "Python 3"
    }
  },
  "cells": [
    {
      "cell_type": "markdown",
      "metadata": {
        "id": "4WH1Pr4KQlCh",
        "colab_type": "text"
      },
      "source": [
        "### Build a DNN using Keras with `RELU` and `ADAM`"
      ]
    },
    {
      "cell_type": "markdown",
      "metadata": {
        "id": "TbvI8LqlQlCl",
        "colab_type": "text"
      },
      "source": [
        "#### Load tensorflow"
      ]
    },
    {
      "cell_type": "code",
      "metadata": {
        "id": "SPW-a-qYQlCp",
        "colab_type": "code",
        "colab": {}
      },
      "source": [
        "import tensorflow as tf"
      ],
      "execution_count": 0,
      "outputs": []
    },
    {
      "cell_type": "markdown",
      "metadata": {
        "id": "74cQBsi5QlCw",
        "colab_type": "text"
      },
      "source": [
        "#### Collect Fashion mnist data from tf.keras.datasets "
      ]
    },
    {
      "cell_type": "code",
      "metadata": {
        "id": "wVWy0oDTr2Kj",
        "colab_type": "code",
        "colab": {}
      },
      "source": [
        "(x_train, y_train), (x_test, y_test) = tf.keras.datasets.fashion_mnist.load_data()"
      ],
      "execution_count": 0,
      "outputs": []
    },
    {
      "cell_type": "code",
      "metadata": {
        "id": "szXe-zi_Z99o",
        "colab_type": "code",
        "colab": {
          "base_uri": "https://localhost:8080/",
          "height": 85
        },
        "outputId": "cea2f774-aed8-49d9-b1ea-fa9b51b44e13"
      },
      "source": [
        "print(x_train.shape)\n",
        "print(y_train.shape)\n",
        "print(x_test.shape)\n",
        "print(y_test.shape)"
      ],
      "execution_count": 59,
      "outputs": [
        {
          "output_type": "stream",
          "text": [
            "(60000, 28, 28)\n",
            "(60000,)\n",
            "(10000, 28, 28)\n",
            "(10000,)\n"
          ],
          "name": "stdout"
        }
      ]
    },
    {
      "cell_type": "markdown",
      "metadata": {
        "id": "no7aWYZyQlC1",
        "colab_type": "text"
      },
      "source": [
        "#### Change train and test labels into one-hot vectors"
      ]
    },
    {
      "cell_type": "code",
      "metadata": {
        "id": "UX6otc4wQlC2",
        "colab_type": "code",
        "colab": {
          "base_uri": "https://localhost:8080/",
          "height": 34
        },
        "outputId": "f0f88fe1-b8bc-462e-9c29-e76701293bea"
      },
      "source": [
        "#check the unique values of y_train and y_test before converting to 1 hot vectors \n",
        "import numpy as np\n",
        "np.unique(y_train, axis=0)"
      ],
      "execution_count": 60,
      "outputs": [
        {
          "output_type": "execute_result",
          "data": {
            "text/plain": [
              "array([0, 1, 2, 3, 4, 5, 6, 7, 8, 9], dtype=uint8)"
            ]
          },
          "metadata": {
            "tags": []
          },
          "execution_count": 60
        }
      ]
    },
    {
      "cell_type": "code",
      "metadata": {
        "id": "uOsRMq87baio",
        "colab_type": "code",
        "colab": {
          "base_uri": "https://localhost:8080/",
          "height": 34
        },
        "outputId": "fcf14fc5-28b0-46e4-a65a-82fd129faf50"
      },
      "source": [
        "np.unique(y_test, axis=0)"
      ],
      "execution_count": 61,
      "outputs": [
        {
          "output_type": "execute_result",
          "data": {
            "text/plain": [
              "array([0, 1, 2, 3, 4, 5, 6, 7, 8, 9], dtype=uint8)"
            ]
          },
          "metadata": {
            "tags": []
          },
          "execution_count": 61
        }
      ]
    },
    {
      "cell_type": "code",
      "metadata": {
        "id": "YQG6ZJeTbXVo",
        "colab_type": "code",
        "colab": {}
      },
      "source": [
        "# converting to 1 hot vectors \n",
        "y_train = tf.keras.utils.to_categorical(y_train, num_classes=10)\n",
        "y_test = tf.keras.utils.to_categorical(y_test, num_classes=10)"
      ],
      "execution_count": 0,
      "outputs": []
    },
    {
      "cell_type": "markdown",
      "metadata": {
        "id": "QjNrRTdoQlC5",
        "colab_type": "text"
      },
      "source": [
        "#### Build the Graph"
      ]
    },
    {
      "cell_type": "code",
      "metadata": {
        "id": "o3QgTflfbrih",
        "colab_type": "code",
        "colab": {
          "base_uri": "https://localhost:8080/",
          "height": 268
        },
        "outputId": "6cf98b56-4db6-4af5-c776-31598b0f01e6"
      },
      "source": [
        "# visualizing the first 10 images in the dataset and their labels\n",
        "%matplotlib inline\n",
        "import matplotlib.pyplot as plt\n",
        "plt.figure(figsize=(10, 1))\n",
        "for i in range(10):\n",
        "    plt.subplot(1, 10, i+1)\n",
        "    plt.imshow(x_train[i].reshape(28, 28), cmap=\"gray\")\n",
        "    plt.axis('off')\n",
        "    print('label for each of the below image: %s' % (np.argmax(y_train[0:10][i])))\n",
        "plt.show()"
      ],
      "execution_count": 63,
      "outputs": [
        {
          "output_type": "stream",
          "text": [
            "label for each of the below image: 9\n",
            "label for each of the below image: 0\n",
            "label for each of the below image: 0\n",
            "label for each of the below image: 3\n",
            "label for each of the below image: 0\n",
            "label for each of the below image: 2\n",
            "label for each of the below image: 7\n",
            "label for each of the below image: 2\n",
            "label for each of the below image: 5\n",
            "label for each of the below image: 5\n"
          ],
          "name": "stdout"
        },
        {
          "output_type": "display_data",
          "data": {
            "image/png": "[encoded data removed]",
            "text/plain": [
              "<Figure size 720x72 with 10 Axes>"
            ]
          },
          "metadata": {
            "tags": []
          }
        }
      ]
    },
    {
      "cell_type": "markdown",
      "metadata": {
        "id": "CDJ9DHVNQlC7",
        "colab_type": "text"
      },
      "source": [
        "#### Initialize model, reshape & normalize data"
      ]
    },
    {
      "cell_type": "code",
      "metadata": {
        "id": "pCDQs_g1QlC8",
        "colab_type": "code",
        "colab": {}
      },
      "source": [
        "#importing the required packages \n",
        "from keras.models import Sequential\n",
        "from keras.layers import Dense\n",
        "from keras import regularizers\n",
        "from keras import optimizers"
      ],
      "execution_count": 0,
      "outputs": []
    },
    {
      "cell_type": "code",
      "metadata": {
        "id": "1r2VkELqctfB",
        "colab_type": "code",
        "colab": {}
      },
      "source": [
        "#Initialize Sequential model\n",
        "model = tf.keras.models.Sequential()\n",
        "\n",
        "#Reshape data from 2D to 1D -> 28x28 to 784\n",
        "model.add(tf.keras.layers.Reshape((784,),input_shape=(28,28,)))\n",
        "\n",
        "#Normalize the data\n",
        "model.add(tf.keras.layers.BatchNormalization())"
      ],
      "execution_count": 0,
      "outputs": []
    },
    {
      "cell_type": "markdown",
      "metadata": {
        "id": "kBGwTTilQlDD",
        "colab_type": "text"
      },
      "source": [
        "#### Add two fully connected layers with 200 and 100 neurons respectively with `relu` activations. Add a dropout layer with `p=0.25`"
      ]
    },
    {
      "cell_type": "code",
      "metadata": {
        "id": "PngFgXxac0H5",
        "colab_type": "code",
        "colab": {}
      },
      "source": [
        "#Add 1st FC layer\n",
        "model.add(tf.keras.layers.Dense(200, activation='relu'))\n",
        "#Add 2nd FC layer\n",
        "model.add(tf.keras.layers.Dense(100, activation='relu'))"
      ],
      "execution_count": 0,
      "outputs": []
    },
    {
      "cell_type": "code",
      "metadata": {
        "id": "IXbfpfOzQlDF",
        "colab_type": "code",
        "colab": {}
      },
      "source": [
        "#adding dropout layer\n",
        "model.add(tf.keras.layers.Dropout(0.25))"
      ],
      "execution_count": 0,
      "outputs": []
    },
    {
      "cell_type": "markdown",
      "metadata": {
        "id": "5I8f5otcQlDJ",
        "colab_type": "text"
      },
      "source": [
        "### Add the output layer with a fully connected layer with 10 neurons with `softmax` activation. Use `categorical_crossentropy` loss and `adam` optimizer and train the network. And, report the final validation."
      ]
    },
    {
      "cell_type": "code",
      "metadata": {
        "id": "JZkvKymSd0Sr",
        "colab_type": "code",
        "colab": {}
      },
      "source": [
        "#Add OUTPUT layer\n",
        "model.add(tf.keras.layers.Dense(10, activation='softmax'))\n",
        "\n",
        "# Compile model\n",
        "model.compile(loss='categorical_crossentropy', optimizer='adam', metrics=['accuracy'])"
      ],
      "execution_count": 0,
      "outputs": []
    },
    {
      "cell_type": "code",
      "metadata": {
        "id": "3Xt6_AHRehTq",
        "colab_type": "code",
        "colab": {
          "base_uri": "https://localhost:8080/",
          "height": 391
        },
        "outputId": "cf9db3c8-1137-4719-e11d-732d2429234a"
      },
      "source": [
        "# Fit the model\n",
        "model.fit(x_train,y_train,          \n",
        "          validation_data=(x_test,y_test),\n",
        "          epochs=10,\n",
        "          batch_size=32)"
      ],
      "execution_count": 72,
      "outputs": [
        {
          "output_type": "stream",
          "text": [
            "Train on 60000 samples, validate on 10000 samples\n",
            "Epoch 1/10\n",
            "60000/60000 [==============================] - 9s 151us/sample - loss: 0.5105 - acc: 0.8164 - val_loss: 0.4245 - val_acc: 0.8478\n",
            "Epoch 2/10\n",
            "60000/60000 [==============================] - 9s 146us/sample - loss: 0.3953 - acc: 0.8562 - val_loss: 0.3728 - val_acc: 0.8615\n",
            "Epoch 3/10\n",
            "60000/60000 [==============================] - 9s 147us/sample - loss: 0.3589 - acc: 0.8677 - val_loss: 0.3643 - val_acc: 0.8703\n",
            "Epoch 4/10\n",
            "60000/60000 [==============================] - 9s 146us/sample - loss: 0.3320 - acc: 0.8774 - val_loss: 0.3625 - val_acc: 0.8732\n",
            "Epoch 5/10\n",
            "60000/60000 [==============================] - 8s 140us/sample - loss: 0.3158 - acc: 0.8820 - val_loss: 0.3492 - val_acc: 0.8758\n",
            "Epoch 6/10\n",
            "60000/60000 [==============================] - 9s 147us/sample - loss: 0.2961 - acc: 0.8903 - val_loss: 0.3611 - val_acc: 0.8801\n",
            "Epoch 7/10\n",
            "60000/60000 [==============================] - 9s 145us/sample - loss: 0.2871 - acc: 0.8923 - val_loss: 0.3405 - val_acc: 0.8853\n",
            "Epoch 8/10\n",
            "60000/60000 [==============================] - 9s 144us/sample - loss: 0.2746 - acc: 0.8961 - val_loss: 0.3552 - val_acc: 0.8753\n",
            "Epoch 9/10\n",
            "60000/60000 [==============================] - 9s 146us/sample - loss: 0.2630 - acc: 0.9002 - val_loss: 0.3467 - val_acc: 0.8828\n",
            "Epoch 10/10\n",
            "60000/60000 [==============================] - 9s 149us/sample - loss: 0.2537 - acc: 0.9040 - val_loss: 0.3497 - val_acc: 0.8851\n"
          ],
          "name": "stdout"
        },
        {
          "output_type": "execute_result",
          "data": {
            "text/plain": [
              "<tensorflow.python.keras.callbacks.History at 0x7f14d4032630>"
            ]
          },
          "metadata": {
            "tags": []
          },
          "execution_count": 72
        }
      ]
    },
    {
      "cell_type": "code",
      "metadata": {
        "id": "2oQ0u_uieWF7",
        "colab_type": "code",
        "colab": {
          "base_uri": "https://localhost:8080/",
          "height": 357
        },
        "outputId": "6e79bc00-91e0-482a-8838-c0ccc15f564a"
      },
      "source": [
        "model.summary()"
      ],
      "execution_count": 74,
      "outputs": [
        {
          "output_type": "stream",
          "text": [
            "Model: \"sequential_4\"\n",
            "_________________________________________________________________\n",
            "Layer (type)                 Output Shape              Param #   \n",
            "=================================================================\n",
            "reshape_2 (Reshape)          (None, 784)               0         \n",
            "_________________________________________________________________\n",
            "batch_normalization (BatchNo (None, 784)               3136      \n",
            "_________________________________________________________________\n",
            "dense_9 (Dense)              (None, 200)               157000    \n",
            "_________________________________________________________________\n",
            "dense_10 (Dense)             (None, 100)               20100     \n",
            "_________________________________________________________________\n",
            "dropout_3 (Dropout)          (None, 100)               0         \n",
            "_________________________________________________________________\n",
            "dense_11 (Dense)             (None, 10)                1010      \n",
            "=================================================================\n",
            "Total params: 181,246\n",
            "Trainable params: 179,678\n",
            "Non-trainable params: 1,568\n",
            "_________________________________________________________________\n"
          ],
          "name": "stdout"
        }
      ]
    },
    {
      "cell_type": "code",
      "metadata": {
        "id": "GMwmtHMRiBYK",
        "colab_type": "code",
        "colab": {
          "base_uri": "https://localhost:8080/",
          "height": 34
        },
        "outputId": "06c9c851-6161-4cd8-9913-d41b77b07c29"
      },
      "source": [
        "#score on train data\n",
        "score = model.evaluate(x_train, y_train, verbose=0)\n",
        "score\n",
        "print(\"The accuracy of train data is: \",score[1])"
      ],
      "execution_count": 87,
      "outputs": [
        {
          "output_type": "stream",
          "text": [
            "The accuracy of train data is:  0.92165\n"
          ],
          "name": "stdout"
        }
      ]
    },
    {
      "cell_type": "code",
      "metadata": {
        "id": "eyX_MLA0iJNg",
        "colab_type": "code",
        "colab": {
          "base_uri": "https://localhost:8080/",
          "height": 34
        },
        "outputId": "4a11fd91-1b74-4c84-9420-a3ba942ef46c"
      },
      "source": [
        "#score on test data\n",
        "score = model.evaluate(x_test, y_test, verbose=0)\n",
        "score\n",
        "print(\"The accuracy of test data is: \",score[1])"
      ],
      "execution_count": 88,
      "outputs": [
        {
          "output_type": "stream",
          "text": [
            "The accuracy of test data is:  0.8851\n"
          ],
          "name": "stdout"
        }
      ]
    },
    {
      "cell_type": "code",
      "metadata": {
        "id": "wvZfrI3SizbW",
        "colab_type": "code",
        "colab": {
          "base_uri": "https://localhost:8080/",
          "height": 238
        },
        "outputId": "9a68fe3a-6ab3-4d64-a523-4134a0436e2a"
      },
      "source": [
        "model.predict(x_test)"
      ],
      "execution_count": 89,
      "outputs": [
        {
          "output_type": "execute_result",
          "data": {
            "text/plain": [
              "array([[2.73297246e-10, 2.03602260e-10, 1.04579026e-10, ...,\n",
              "        8.87101423e-03, 4.64853755e-09, 9.90796685e-01],\n",
              "       [1.17379352e-06, 4.73605403e-17, 9.97035503e-01, ...,\n",
              "        1.36648427e-27, 9.70620746e-14, 1.55564006e-28],\n",
              "       [6.29122431e-18, 1.00000000e+00, 2.10848403e-20, ...,\n",
              "        2.97656834e-22, 3.09943604e-26, 3.28014704e-32],\n",
              "       ...,\n",
              "       [1.28742813e-05, 2.56115468e-13, 7.23587732e-07, ...,\n",
              "        9.26545489e-14, 9.99981642e-01, 7.68748383e-15],\n",
              "       [6.39154968e-15, 1.00000000e+00, 4.93527254e-17, ...,\n",
              "        3.74181602e-18, 5.67179755e-19, 1.99812851e-23],\n",
              "       [8.50419212e-07, 7.48120121e-10, 1.67055128e-04, ...,\n",
              "        8.25486556e-02, 1.38590467e-05, 5.42115886e-04]], dtype=float32)"
            ]
          },
          "metadata": {
            "tags": []
          },
          "execution_count": 89
        }
      ]
    }
  ]
}