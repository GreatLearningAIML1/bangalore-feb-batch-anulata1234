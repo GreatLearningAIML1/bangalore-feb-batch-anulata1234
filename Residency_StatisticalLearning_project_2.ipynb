{
 "cells": [
  {
   "cell_type": "code",
   "execution_count": 7,
   "metadata": {},
   "outputs": [
    {
     "data": {
      "text/html": [
       "<div>\n",
       "<style scoped>\n",
       "    .dataframe tbody tr th:only-of-type {\n",
       "        vertical-align: middle;\n",
       "    }\n",
       "\n",
       "    .dataframe tbody tr th {\n",
       "        vertical-align: top;\n",
       "    }\n",
       "\n",
       "    .dataframe thead th {\n",
       "        text-align: right;\n",
       "    }\n",
       "</style>\n",
       "<table border=\"1\" class=\"dataframe\">\n",
       "  <thead>\n",
       "    <tr style=\"text-align: right;\">\n",
       "      <th></th>\n",
       "      <th>SALESPERSON</th>\n",
       "      <th>Old_Scheme</th>\n",
       "      <th>New_Scheme</th>\n",
       "    </tr>\n",
       "  </thead>\n",
       "  <tbody>\n",
       "    <tr>\n",
       "      <th>0</th>\n",
       "      <td>1</td>\n",
       "      <td>57000</td>\n",
       "      <td>62000</td>\n",
       "    </tr>\n",
       "    <tr>\n",
       "      <th>1</th>\n",
       "      <td>2</td>\n",
       "      <td>103000</td>\n",
       "      <td>122000</td>\n",
       "    </tr>\n",
       "    <tr>\n",
       "      <th>2</th>\n",
       "      <td>3</td>\n",
       "      <td>59000</td>\n",
       "      <td>54000</td>\n",
       "    </tr>\n",
       "    <tr>\n",
       "      <th>3</th>\n",
       "      <td>4</td>\n",
       "      <td>75000</td>\n",
       "      <td>82000</td>\n",
       "    </tr>\n",
       "    <tr>\n",
       "      <th>4</th>\n",
       "      <td>5</td>\n",
       "      <td>84000</td>\n",
       "      <td>84000</td>\n",
       "    </tr>\n",
       "    <tr>\n",
       "      <th>5</th>\n",
       "      <td>6</td>\n",
       "      <td>73000</td>\n",
       "      <td>86000</td>\n",
       "    </tr>\n",
       "    <tr>\n",
       "      <th>6</th>\n",
       "      <td>7</td>\n",
       "      <td>35000</td>\n",
       "      <td>32000</td>\n",
       "    </tr>\n",
       "    <tr>\n",
       "      <th>7</th>\n",
       "      <td>8</td>\n",
       "      <td>110000</td>\n",
       "      <td>104000</td>\n",
       "    </tr>\n",
       "    <tr>\n",
       "      <th>8</th>\n",
       "      <td>9</td>\n",
       "      <td>44000</td>\n",
       "      <td>38000</td>\n",
       "    </tr>\n",
       "    <tr>\n",
       "      <th>9</th>\n",
       "      <td>10</td>\n",
       "      <td>82000</td>\n",
       "      <td>107000</td>\n",
       "    </tr>\n",
       "    <tr>\n",
       "      <th>10</th>\n",
       "      <td>11</td>\n",
       "      <td>67000</td>\n",
       "      <td>84000</td>\n",
       "    </tr>\n",
       "    <tr>\n",
       "      <th>11</th>\n",
       "      <td>12</td>\n",
       "      <td>64000</td>\n",
       "      <td>85000</td>\n",
       "    </tr>\n",
       "    <tr>\n",
       "      <th>12</th>\n",
       "      <td>13</td>\n",
       "      <td>78000</td>\n",
       "      <td>99000</td>\n",
       "    </tr>\n",
       "    <tr>\n",
       "      <th>13</th>\n",
       "      <td>14</td>\n",
       "      <td>53000</td>\n",
       "      <td>39000</td>\n",
       "    </tr>\n",
       "    <tr>\n",
       "      <th>14</th>\n",
       "      <td>15</td>\n",
       "      <td>41000</td>\n",
       "      <td>34000</td>\n",
       "    </tr>\n",
       "    <tr>\n",
       "      <th>15</th>\n",
       "      <td>16</td>\n",
       "      <td>39000</td>\n",
       "      <td>58000</td>\n",
       "    </tr>\n",
       "    <tr>\n",
       "      <th>16</th>\n",
       "      <td>17</td>\n",
       "      <td>80000</td>\n",
       "      <td>73000</td>\n",
       "    </tr>\n",
       "    <tr>\n",
       "      <th>17</th>\n",
       "      <td>18</td>\n",
       "      <td>87000</td>\n",
       "      <td>53000</td>\n",
       "    </tr>\n",
       "    <tr>\n",
       "      <th>18</th>\n",
       "      <td>19</td>\n",
       "      <td>73000</td>\n",
       "      <td>66000</td>\n",
       "    </tr>\n",
       "    <tr>\n",
       "      <th>19</th>\n",
       "      <td>20</td>\n",
       "      <td>65000</td>\n",
       "      <td>78000</td>\n",
       "    </tr>\n",
       "    <tr>\n",
       "      <th>20</th>\n",
       "      <td>21</td>\n",
       "      <td>28000</td>\n",
       "      <td>41000</td>\n",
       "    </tr>\n",
       "    <tr>\n",
       "      <th>21</th>\n",
       "      <td>22</td>\n",
       "      <td>62000</td>\n",
       "      <td>71000</td>\n",
       "    </tr>\n",
       "    <tr>\n",
       "      <th>22</th>\n",
       "      <td>23</td>\n",
       "      <td>49000</td>\n",
       "      <td>38000</td>\n",
       "    </tr>\n",
       "    <tr>\n",
       "      <th>23</th>\n",
       "      <td>24</td>\n",
       "      <td>84000</td>\n",
       "      <td>95000</td>\n",
       "    </tr>\n",
       "    <tr>\n",
       "      <th>24</th>\n",
       "      <td>25</td>\n",
       "      <td>63000</td>\n",
       "      <td>81000</td>\n",
       "    </tr>\n",
       "    <tr>\n",
       "      <th>25</th>\n",
       "      <td>26</td>\n",
       "      <td>77000</td>\n",
       "      <td>58000</td>\n",
       "    </tr>\n",
       "    <tr>\n",
       "      <th>26</th>\n",
       "      <td>27</td>\n",
       "      <td>67000</td>\n",
       "      <td>75000</td>\n",
       "    </tr>\n",
       "    <tr>\n",
       "      <th>27</th>\n",
       "      <td>28</td>\n",
       "      <td>101000</td>\n",
       "      <td>94000</td>\n",
       "    </tr>\n",
       "    <tr>\n",
       "      <th>28</th>\n",
       "      <td>29</td>\n",
       "      <td>91000</td>\n",
       "      <td>100000</td>\n",
       "    </tr>\n",
       "    <tr>\n",
       "      <th>29</th>\n",
       "      <td>30</td>\n",
       "      <td>50000</td>\n",
       "      <td>68000</td>\n",
       "    </tr>\n",
       "  </tbody>\n",
       "</table>\n",
       "</div>"
      ],
      "text/plain": [
       "    SALESPERSON  Old_Scheme  New_Scheme\n",
       "0             1       57000       62000\n",
       "1             2      103000      122000\n",
       "2             3       59000       54000\n",
       "3             4       75000       82000\n",
       "4             5       84000       84000\n",
       "5             6       73000       86000\n",
       "6             7       35000       32000\n",
       "7             8      110000      104000\n",
       "8             9       44000       38000\n",
       "9            10       82000      107000\n",
       "10           11       67000       84000\n",
       "11           12       64000       85000\n",
       "12           13       78000       99000\n",
       "13           14       53000       39000\n",
       "14           15       41000       34000\n",
       "15           16       39000       58000\n",
       "16           17       80000       73000\n",
       "17           18       87000       53000\n",
       "18           19       73000       66000\n",
       "19           20       65000       78000\n",
       "20           21       28000       41000\n",
       "21           22       62000       71000\n",
       "22           23       49000       38000\n",
       "23           24       84000       95000\n",
       "24           25       63000       81000\n",
       "25           26       77000       58000\n",
       "26           27       67000       75000\n",
       "27           28      101000       94000\n",
       "28           29       91000      100000\n",
       "29           30       50000       68000"
      ]
     },
     "execution_count": 7,
     "metadata": {},
     "output_type": "execute_result"
    }
   ],
   "source": [
    "import pandas as pd\n",
    "df = pd.read_csv(\"data.csv\")\n",
    "\n",
    "\n",
    "df.rename(index=str, columns={\"Old Scheme (in thousands)\": \"Old_Scheme\", \"New Scheme (in thousands)\": \"New_Scheme\"})\n",
    "titan_insurance = df.rename(index=str, columns={\"Old Scheme (in thousands)\": \"Old_Scheme\", \"New Scheme (in thousands)\": \"New_Scheme\"})\n",
    "# now make every single data of old scheme and new scheme in 1000s\n",
    "\n",
    "\n",
    "titan_insurance[\"Old_Scheme\"]=titan_insurance[\"Old_Scheme\"].apply(lambda x: x*1000)\n",
    "titan_insurance[\"New_Scheme\"]=titan_insurance[\"New_Scheme\"].apply(lambda x: x*1000)\n",
    "\n",
    "titan_insurance\n"
   ]
  },
  {
   "cell_type": "code",
   "execution_count": 8,
   "metadata": {},
   "outputs": [
    {
     "name": "stdout",
     "output_type": "stream",
     "text": [
      "68033.33333333333\n"
     ]
    },
    {
     "data": {
      "text/plain": [
       "72033.33333333333"
      ]
     },
     "execution_count": 8,
     "metadata": {},
     "output_type": "execute_result"
    }
   ],
   "source": [
    "print(titan_insurance[\"Old_Scheme\"].mean())\n",
    "titan_insurance[\"New_Scheme\"].mean()\n"
   ]
  },
  {
   "cell_type": "code",
   "execution_count": null,
   "metadata": {},
   "outputs": [],
   "source": []
  },
  {
   "cell_type": "code",
   "execution_count": 11,
   "metadata": {
    "scrolled": true
   },
   "outputs": [
    {
     "name": "stdout",
     "output_type": "stream",
     "text": [
      "131.0\n"
     ]
    },
    {
     "data": {
      "text/plain": [
       "0.06116952762758769"
      ]
     },
     "execution_count": 11,
     "metadata": {},
     "output_type": "execute_result"
    }
   ],
   "source": [
    "from scipy import stats \n",
    "import numpy as np\n",
    "\n",
    "\n",
    "\n",
    "#stats.ttest_rel(titan_insurance[\"New_Scheme\"], titan_insurance[\"Old_Scheme\"])\n",
    "\n",
    "z_stats, pvalue = stats.wilcoxon(titan_insurance[\"New_Scheme\"] - titan_insurance[\"Old_Scheme\"])\n",
    "\n",
    "print (z_stats)\n",
    "\n",
    "pvalue\n"
   ]
  },
  {
   "cell_type": "code",
   "execution_count": null,
   "metadata": {},
   "outputs": [],
   "source": [
    "\n",
    "Q2)\n",
    "\n",
    "Describe the five percent significance test you would apply to these data to determine whether the new scheme has significantly raised outputs? What conclusion does the test lead to?\n",
    "\n",
    "Solution:\n",
    "\n",
    "It is asked that whether the new scheme has significantly raised the output, it is an example of the one-tailed t-test.\n",
    "\n",
    "\n",
    "Mean of amount assured before the introduction of scheme = 68450\n",
    "\n",
    "Mean of amount assured after the introduction of scheme = 72000\n",
    "\n",
    "Difference in mean = 72000 – 68450 = 3550\n",
    "\n",
    "Let,\n",
    "\n",
    "μ1 = Average sums assured by salesperson BEFORE changeover. μ2 = Average sums assured by salesperson AFTER changeover.\n",
    "\n",
    "H0: μ1 = μ2  ; μ2 – μ1  = 0\n",
    "\n",
    "HA: μ1 < μ2   ; μ2 – μ1  > 0 ; true difference of means is greater than zero.\n",
    "\n",
    "Since population standard deviation is unknown, paired sample t-test will be used.\n",
    "\n",
    "Since p-value (=0.06116952762758769) is higher than 0.05, we accept (fail to reject) NULL hypothesis. The new scheme has NOT significantly raised outputs.\n",
    "\n"
   ]
  },
  {
   "cell_type": "code",
   "execution_count": null,
   "metadata": {},
   "outputs": [],
   "source": [
    "\n",
    "#Q3) What conclusion does the test (p-value) lead to? (2.5 points)\n",
    "Since p-value (0.06116952762758769) is higher than 0.05, we accept (fail to reject) NULL hypothesis. The new scheme has NOT significantly raised outputs.\n"
   ]
  },
  {
   "cell_type": "code",
   "execution_count": null,
   "metadata": {},
   "outputs": [],
   "source": [
    "#Q4)\n",
    "\n",
    "Suppose it has been calculated that in order for Titan to break even, the average output must increase by £5000 in the scheme compared to the old scheme. If this figure is alternative hypothesis, what is:\n",
    "        a) The probability of a type 1 error? (2.5 points)\n",
    "\n",
    "        b) What is the p- value of the hypothesis test if we test for a difference of $5000? (5 points)\n",
    "\n",
    "        c) Power of the test (5 points)"
   ]
  },
  {
   "cell_type": "code",
   "execution_count": null,
   "metadata": {},
   "outputs": [],
   "source": [
    "\n",
    "Ans 4 (a):- Solution: Probability of Type I error = significant level = 0.05 or 5%\n",
    "        \n",
    "        \n",
    "\n",
    "\n"
   ]
  },
  {
   "cell_type": "code",
   "execution_count": 32,
   "metadata": {},
   "outputs": [
    {
     "data": {
      "text/plain": [
       "Ttest_relResult(statistic=1.5559143823544377, pvalue=0.13057553961337662)"
      ]
     },
     "execution_count": 32,
     "metadata": {},
     "output_type": "execute_result"
    }
   ],
   "source": [
    "#Ans 4(b) :- \n",
    "    \n",
    "    \n",
    "#    Let  μ2 = Average sums assured by salesperson AFTER changeover.\n",
    "\n",
    "#μ1 = Average sums assured by salesperson BEFORE changeover.\n",
    "\n",
    "#μd = μ2 – μ1   H0: μd ≤ 5000  HA: μd > 5000\n",
    "\n",
    "#This is a right tail test\n",
    "\n",
    "\n",
    "\n",
    "stats.ttest_rel(titan_insurance[\"New_Scheme\"], titan_insurance[\"Old_Scheme\"]"
   ]
  },
  {
   "cell_type": "code",
   "execution_count": 20,
   "metadata": {},
   "outputs": [
    {
     "data": {
      "text/plain": [
       "-0.13102028811290184"
      ]
     },
     "execution_count": 20,
     "metadata": {},
     "output_type": "execute_result"
    }
   ],
   "source": [
    "#power of the test = probability of type two error \n",
    "#ower of the test = 1 - probability of type 2 error\n",
    "\n",
    "#Q 4(c))\n",
    "#---------\n",
    "\n",
    "import numpy as np\n",
    "\n",
    "pre_test = titan_insurance[\"Old_Scheme\"]\n",
    "post_test = titan_insurance[\"New_Scheme\"]\n",
    "\n",
    "\n",
    "(np.mean(pre_test) - np.mean(post_test))/np.sqrt(((30-1)*np.var(pre_test) + (30-1)*np.var(post_test)) / 30+30-2)\\"
   ]
  },
  {
   "cell_type": "code",
   "execution_count": 33,
   "metadata": {},
   "outputs": [
    {
     "data": {
      "text/plain": [
       "0.07898067451935027"
      ]
     },
     "execution_count": 33,
     "metadata": {},
     "output_type": "execute_result"
    }
   ],
   "source": [
    "from statsmodels.stats.power import TTestIndPower\n",
    "#TTestPower.power(effect_size, nobs, alpha, df=None, alternative='two-sided')[source]\n",
    "\n",
    "#print (TTestIndPower(0.131, nobs=30, alpha=0.05,alternative='two-sided'))\n",
    "\n",
    "from statsmodels.stats.power import  tt_ind_solve_power\n",
    "from scipy.interpolate import interp1d\n",
    "import matplotlib.pyplot as plt\n",
    "tt_ind_solve_power(0.131, nobs1=30, alpha=0.05, alternative='two-sided')"
   ]
  },
  {
   "cell_type": "code",
   "execution_count": null,
   "metadata": {},
   "outputs": [],
   "source": []
  }
 ],
 "metadata": {
  "kernelspec": {
   "display_name": "Python 3",
   "language": "python",
   "name": "python3"
  },
  "language_info": {
   "codemirror_mode": {
    "name": "ipython",
    "version": 3
   },
   "file_extension": ".py",
   "mimetype": "text/x-python",
   "name": "python",
   "nbconvert_exporter": "python",
   "pygments_lexer": "ipython3",
   "version": "3.7.1"
  }
 },
 "nbformat": 4,
 "nbformat_minor": 2
}
