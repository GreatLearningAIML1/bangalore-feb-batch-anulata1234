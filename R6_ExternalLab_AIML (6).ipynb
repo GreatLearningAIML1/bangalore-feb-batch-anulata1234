{
  "nbformat": 4,
  "nbformat_minor": 0,
  "metadata": {
    "colab": {
      "name": "R6_ExternalLab_AIML.ipynb",
      "version": "0.3.2",
      "provenance": [],
      "collapsed_sections": []
    },
    "kernelspec": {
      "display_name": "Python 2",
      "language": "python",
      "name": "python2"
    }
  },
  "cells": [
    {
      "cell_type": "markdown",
      "metadata": {
        "id": "YYk8NG3yOIT9",
        "colab_type": "text"
      },
      "source": [
        "### A MNIST-like fashion product database\n",
        "\n",
        "In this, we classify the images into respective classes given in the dataset. We use a Neural Net and a Deep Neural Net in Keras to solve this and check the accuracy scores."
      ]
    },
    {
      "cell_type": "markdown",
      "metadata": {
        "id": "tFO6PuxzOIT_",
        "colab_type": "text"
      },
      "source": [
        "### Load tensorflow"
      ]
    },
    {
      "cell_type": "code",
      "metadata": {
        "id": "efNjNImfOIUC",
        "colab_type": "code",
        "colab": {}
      },
      "source": [
        "import tensorflow as tf\n",
        "tf.set_random_seed(42)"
      ],
      "execution_count": 0,
      "outputs": []
    },
    {
      "cell_type": "code",
      "metadata": {
        "id": "l9C4aAIGOIUH",
        "colab_type": "code",
        "outputId": "2d950a54-dd02-4215-e057-41400d4e2fa9",
        "colab": {
          "base_uri": "https://localhost:8080/",
          "height": 34
        }
      },
      "source": [
        "tf.__version__"
      ],
      "execution_count": 101,
      "outputs": [
        {
          "output_type": "execute_result",
          "data": {
            "text/plain": [
              "'1.14.0'"
            ]
          },
          "metadata": {
            "tags": []
          },
          "execution_count": 101
        }
      ]
    },
    {
      "cell_type": "markdown",
      "metadata": {
        "id": "HcoZBStrOIUQ",
        "colab_type": "text"
      },
      "source": [
        "### Collect Data"
      ]
    },
    {
      "cell_type": "code",
      "metadata": {
        "id": "XA1WsFSeOIUS",
        "colab_type": "code",
        "colab": {}
      },
      "source": [
        "import keras"
      ],
      "execution_count": 0,
      "outputs": []
    },
    {
      "cell_type": "code",
      "metadata": {
        "id": "qnbx7TyQOIUY",
        "colab_type": "code",
        "colab": {}
      },
      "source": [
        "(trainX, trainY), (testX, testY) = keras.datasets.fashion_mnist.load_data()"
      ],
      "execution_count": 0,
      "outputs": []
    },
    {
      "cell_type": "code",
      "metadata": {
        "id": "UbiHj5YPOIUc",
        "colab_type": "code",
        "outputId": "76c99874-d39e-484d-f733-80dbff59284e",
        "colab": {
          "base_uri": "https://localhost:8080/",
          "height": 34
        }
      },
      "source": [
        "print(trainY)"
      ],
      "execution_count": 104,
      "outputs": [
        {
          "output_type": "stream",
          "text": [
            "[9 0 0 ... 3 0 5]\n"
          ],
          "name": "stdout"
        }
      ]
    },
    {
      "cell_type": "code",
      "metadata": {
        "id": "2duJefEZ5GbF",
        "colab_type": "code",
        "outputId": "3c5c2eed-6f2c-4d8c-ede4-d79fcdfeb63c",
        "colab": {
          "base_uri": "https://localhost:8080/",
          "height": 51
        }
      },
      "source": [
        "print(testX.shape)\n",
        "print(trainX.shape)"
      ],
      "execution_count": 105,
      "outputs": [
        {
          "output_type": "stream",
          "text": [
            "(10000, 28, 28)\n",
            "(60000, 28, 28)\n"
          ],
          "name": "stdout"
        }
      ]
    },
    {
      "cell_type": "code",
      "metadata": {
        "id": "ABeEaOuj8Bv4",
        "colab_type": "code",
        "outputId": "1271f158-5353-4f74-a40b-54bef3378014",
        "colab": {
          "base_uri": "https://localhost:8080/",
          "height": 51
        }
      },
      "source": [
        "print(trainY.shape)\n",
        "print(testY.shape)"
      ],
      "execution_count": 106,
      "outputs": [
        {
          "output_type": "stream",
          "text": [
            "(60000,)\n",
            "(10000,)\n"
          ],
          "name": "stdout"
        }
      ]
    },
    {
      "cell_type": "markdown",
      "metadata": {
        "id": "lDAYzkwyOIUj",
        "colab_type": "text"
      },
      "source": [
        "### Convert both training and testing labels into one-hot vectors.\n",
        "\n",
        "**Hint:** check **tf.keras.utils.to_categorical()**"
      ]
    },
    {
      "cell_type": "code",
      "metadata": {
        "id": "vBlfYlANOIUk",
        "colab_type": "code",
        "colab": {}
      },
      "source": [
        ""
      ],
      "execution_count": 0,
      "outputs": []
    },
    {
      "cell_type": "code",
      "metadata": {
        "id": "zVzUB9uQ_JTi",
        "colab_type": "code",
        "colab": {}
      },
      "source": [
        "# Convert labels to One Hot Encoded\n",
        "#Taking 10 as there are numbers from 0-9\n",
        "trainY = keras.utils.to_categorical(trainY, 10)\n",
        "testY = keras.utils.to_categorical(testY, 10)"
      ],
      "execution_count": 0,
      "outputs": []
    },
    {
      "cell_type": "code",
      "metadata": {
        "scrolled": true,
        "id": "RHV3b9mzOIUq",
        "colab_type": "code",
        "outputId": "5dcd0799-e56c-46c5-ecfc-c5339e8905b8",
        "colab": {
          "base_uri": "https://localhost:8080/",
          "height": 119
        }
      },
      "source": [
        "print(trainY.shape)\n",
        "print('First 5 examples now are: ', trainY[0:5])"
      ],
      "execution_count": 108,
      "outputs": [
        {
          "output_type": "stream",
          "text": [
            "(60000, 10)\n",
            "('First 5 examples now are: ', array([[0., 0., 0., 0., 0., 0., 0., 0., 0., 1.],\n",
            "       [1., 0., 0., 0., 0., 0., 0., 0., 0., 0.],\n",
            "       [1., 0., 0., 0., 0., 0., 0., 0., 0., 0.],\n",
            "       [0., 0., 0., 1., 0., 0., 0., 0., 0., 0.],\n",
            "       [1., 0., 0., 0., 0., 0., 0., 0., 0., 0.]], dtype=float32))\n"
          ],
          "name": "stdout"
        }
      ]
    },
    {
      "cell_type": "markdown",
      "metadata": {
        "id": "FwhQ8e7VOIUw",
        "colab_type": "text"
      },
      "source": [
        "### Visualize the data\n",
        "\n",
        "Plot first 10 images in the triaining set and their labels."
      ]
    },
    {
      "cell_type": "code",
      "metadata": {
        "id": "CjyTRHqAGECY",
        "colab_type": "code",
        "outputId": "850ed7d1-f666-4066-c9d2-21ccd1ca559a",
        "colab": {
          "base_uri": "https://localhost:8080/",
          "height": 997
        }
      },
      "source": [
        "import numpy as np\n",
        "def gen_image(arrx):\n",
        "    pyplot.subplot(330 + 1)\n",
        "    plt.imshow(arrx,cmap=pyplot.get_cmap('gray'))\n",
        "    #plt.title(arry)\n",
        "    return plt\n",
        "\n",
        "for i in range(10):\n",
        " gen_image(trainX[i]).show()"
      ],
      "execution_count": 109,
      "outputs": [
        {
          "output_type": "display_data",
          "data": {
            "image/png": "[encoded data removed]",
            "text/plain": [
              "<Figure size 432x288 with 1 Axes>"
            ]
          },
          "metadata": {
            "tags": []
          }
        },
        {
          "output_type": "display_data",
          "data": {
            "image/png": "[encoded data removed]",
            "text/plain": [
              "<Figure size 432x288 with 1 Axes>"
            ]
          },
          "metadata": {
            "tags": []
          }
        },
        {
          "output_type": "display_data",
          "data": {
            "image/png": "[encoded data removed]",
            "text/plain": [
              "<Figure size 432x288 with 1 Axes>"
            ]
          },
          "metadata": {
            "tags": []
          }
        },
        {
          "output_type": "display_data",
          "data": {
            "image/png": "[encoded data removed]",
            "text/plain": [
              "<Figure size 432x288 with 1 Axes>"
            ]
          },
          "metadata": {
            "tags": []
          }
        },
        {
          "output_type": "display_data",
          "data": {
            "image/png": "[encoded data removed]",
            "text/plain": [
              "<Figure size 432x288 with 1 Axes>"
            ]
          },
          "metadata": {
            "tags": []
          }
        },
        {
          "output_type": "display_data",
          "data": {
            "image/png": "[encoded data removed]",
            "text/plain": [
              "<Figure size 432x288 with 1 Axes>"
            ]
          },
          "metadata": {
            "tags": []
          }
        },
        {
          "output_type": "display_data",
          "data": {
            "image/png": "[encoded data removed]",
            "text/plain": [
              "<Figure size 432x288 with 1 Axes>"
            ]
          },
          "metadata": {
            "tags": []
          }
        },
        {
          "output_type": "display_data",
          "data": {
            "image/png": "[encoded data removed]",
            "text/plain": [
              "<Figure size 432x288 with 1 Axes>"
            ]
          },
          "metadata": {
            "tags": []
          }
        },
        {
          "output_type": "display_data",
          "data": {
            "image/png": "[encoded data removed]",
            "text/plain": [
              "<Figure size 432x288 with 1 Axes>"
            ]
          },
          "metadata": {
            "tags": []
          }
        },
        {
          "output_type": "display_data",
          "data": {
            "image/png": "[encoded data removed]",
            "text/plain": [
              "<Figure size 432x288 with 1 Axes>"
            ]
          },
          "metadata": {
            "tags": []
          }
        }
      ]
    },
    {
      "cell_type": "markdown",
      "metadata": {
        "id": "l4TbJGeSOIU4",
        "colab_type": "text"
      },
      "source": [
        "### Build a neural Network with a cross entropy loss function and sgd optimizer in Keras. The output layer with 10 neurons as we have 10 classes."
      ]
    },
    {
      "cell_type": "code",
      "metadata": {
        "id": "Ac06XZZTOIU6",
        "colab_type": "code",
        "colab": {
          "base_uri": "https://localhost:8080/",
          "height": 51
        },
        "outputId": "5d78ea3e-5ea9-4680-9a9a-fedcf2dc6983"
      },
      "source": [
        "#Feature Normalization \n",
        "trainX=trainX.reshape(trainX.shape[0],28,28,1).astype('float32')\n",
        "testX=testX.reshape(testX.shape[0],28,28,1).astype('float32')\n",
        "print(trainX.shape)\n",
        "print(testX.shape)\n",
        "trainX/=255\n",
        "testX/=255"
      ],
      "execution_count": 112,
      "outputs": [
        {
          "output_type": "stream",
          "text": [
            "(60000, 28, 28, 1)\n",
            "(10000, 28, 28, 1)\n"
          ],
          "name": "stdout"
        }
      ]
    },
    {
      "cell_type": "code",
      "metadata": {
        "id": "ni_W9mwxQCfw",
        "colab_type": "code",
        "colab": {}
      },
      "source": [
        "from keras.models import Sequential\n",
        "from keras.layers.core import Dense,Dropout,Activation,Flatten\n",
        "from keras.layers.convolutional import Conv2D,MaxPooling2D\n",
        "from keras.layers import Flatten, InputLayer\n",
        "model = Sequential()\n",
        "model.add(Conv2D(32, (3, 3), activation='relu', kernel_initializer='he_uniform', input_shape=(28, 28, 1)))\n",
        "model.add(MaxPooling2D((2, 2)))\n",
        "model.add(Flatten())\n",
        "model.add(Dense(128, activation='relu', kernel_initializer='he_uniform'))\n",
        "model.add(Dense(10, activation='softmax'))\n",
        "# compile model\n",
        "model.compile(loss='categorical_crossentropy',optimizer='sgd',metrics=['accuracy'])"
      ],
      "execution_count": 0,
      "outputs": []
    },
    {
      "cell_type": "markdown",
      "metadata": {
        "id": "3hQpLv3aOIU_",
        "colab_type": "text"
      },
      "source": [
        "### Execute the model using model.fit()"
      ]
    },
    {
      "cell_type": "code",
      "metadata": {
        "id": "BQ67JMd0NYPR",
        "colab_type": "code",
        "colab": {
          "base_uri": "https://localhost:8080/",
          "height": 255
        },
        "outputId": "baf10452-c2ba-4cad-c831-d51204a90327"
      },
      "source": [
        "model.fit(trainX,trainY,batch_size=200,nb_epoch=5,verbose=1,validation_data=(testX,testY))"
      ],
      "execution_count": 140,
      "outputs": [
        {
          "output_type": "stream",
          "text": [
            "/usr/local/lib/python2.7/dist-packages/ipykernel_launcher.py:1: UserWarning: The `nb_epoch` argument in `fit` has been renamed `epochs`.\n",
            "  \"\"\"Entry point for launching an IPython kernel.\n"
          ],
          "name": "stderr"
        },
        {
          "output_type": "stream",
          "text": [
            "Train on 60000 samples, validate on 10000 samples\n",
            "Epoch 1/5\n",
            "60000/60000 [==============================] - 25s 423us/step - loss: 2.3026 - acc: 0.0972 - val_loss: 2.3026 - val_acc: 0.1000\n",
            "Epoch 2/5\n",
            "60000/60000 [==============================] - 25s 413us/step - loss: 2.3026 - acc: 0.0960 - val_loss: 2.3026 - val_acc: 0.1000\n",
            "Epoch 3/5\n",
            "60000/60000 [==============================] - 25s 412us/step - loss: 2.3026 - acc: 0.0968 - val_loss: 2.3026 - val_acc: 0.1000\n",
            "Epoch 4/5\n",
            "60000/60000 [==============================] - 25s 413us/step - loss: 2.3026 - acc: 0.0985 - val_loss: 2.3026 - val_acc: 0.1000\n",
            "Epoch 5/5\n",
            "60000/60000 [==============================] - 25s 414us/step - loss: 2.3026 - acc: 0.0971 - val_loss: 2.3026 - val_acc: 0.1000\n"
          ],
          "name": "stdout"
        },
        {
          "output_type": "execute_result",
          "data": {
            "text/plain": [
              "<keras.callbacks.History at 0x7f7f3f46ed10>"
            ]
          },
          "metadata": {
            "tags": []
          },
          "execution_count": 140
        }
      ]
    },
    {
      "cell_type": "code",
      "metadata": {
        "id": "5W3VAAmESMIf",
        "colab_type": "code",
        "colab": {
          "base_uri": "https://localhost:8080/",
          "height": 275
        },
        "outputId": "709dac7a-7c8b-47dc-c5fd-1ef1f8f59642"
      },
      "source": [
        "model.fit(testX,testY,batch_size=200,nb_epoch=5,verbose=1)\n",
        "score=model.evaluate(testX,testY)\n",
        "print(score)"
      ],
      "execution_count": 191,
      "outputs": [
        {
          "output_type": "stream",
          "text": [
            "Epoch 1/5\n",
            "  400/10000 [>.............................] - ETA: 3s - loss: 2.3026 - acc: 0.1150"
          ],
          "name": "stdout"
        },
        {
          "output_type": "stream",
          "text": [
            "/usr/local/lib/python2.7/dist-packages/ipykernel_launcher.py:1: UserWarning: The `nb_epoch` argument in `fit` has been renamed `epochs`.\n",
            "  \"\"\"Entry point for launching an IPython kernel.\n"
          ],
          "name": "stderr"
        },
        {
          "output_type": "stream",
          "text": [
            "10000/10000 [==============================] - 4s 398us/step - loss: 2.3026 - acc: 0.0958\n",
            "Epoch 2/5\n",
            "10000/10000 [==============================] - 4s 397us/step - loss: 2.3026 - acc: 0.0932\n",
            "Epoch 3/5\n",
            "10000/10000 [==============================] - 4s 397us/step - loss: 2.3026 - acc: 0.0931\n",
            "Epoch 4/5\n",
            "10000/10000 [==============================] - 4s 399us/step - loss: 2.3026 - acc: 0.0921\n",
            "Epoch 5/5\n",
            "10000/10000 [==============================] - 4s 395us/step - loss: 2.3026 - acc: 0.0979\n",
            "10000/10000 [==============================] - 2s 205us/step\n",
            "[2.3025851276397704, 0.1]\n"
          ],
          "name": "stdout"
        }
      ]
    },
    {
      "cell_type": "markdown",
      "metadata": {
        "id": "JdzDtGwDOIVF",
        "colab_type": "text"
      },
      "source": [
        "### In the above Neural Network model add Batch Normalization layer after the input layer and repeat the steps."
      ]
    },
    {
      "cell_type": "code",
      "metadata": {
        "id": "kndfpdidOIVI",
        "colab_type": "code",
        "colab": {}
      },
      "source": [
        "from keras.layers.normalization import BatchNormalization\n",
        "from keras.optimizers import SGD\n",
        "\n",
        "clf = Sequential()\n",
        "clf.add(InputLayer(input_shape=(28, 28,1)))\n",
        "\n",
        "# Normalize the activations of the previous layer at each batch.\n",
        "clf.add(BatchNormalization())\n",
        "\n",
        "# Next step is to add convolution layer to model.\n",
        "clf.add(Conv2D(   32, (2, 2),     padding='same', kernel_initializer='random_uniform' ))\n",
        "\n",
        "# Add max pooling layer for 2D data.\n",
        "clf.add(MaxPooling2D(padding='same'))\n",
        "# Add this same two layers to model.\n",
        "clf.add(  Conv2D(     32,      (2, 2),   padding='same',       kernel_initializer='random_uniform',      input_shape=(28, 28,1)   ))\n",
        "\n",
        "clf.add(MaxPooling2D(padding='same'))\n",
        "clf.add(Flatten())\n",
        "\n",
        "# Last step is creation of fully-connected layers.\n",
        "clf.add( Dense(   128,       activation='relu',     kernel_initializer='random_uniform',         ))\n",
        "\n",
        "# Add output layer, which contains ten numbers.\n",
        "# Each number represents cloth type.\n",
        "clf.add(Dense(10, activation='softmax'))\n",
        "\n",
        "\n",
        "# Last step in Keras is to compile model.\n",
        "clf.compile(  loss='categorical_crossentropy',  optimizer='sgd',   metrics=['accuracy'])\n"
      ],
      "execution_count": 0,
      "outputs": []
    },
    {
      "cell_type": "markdown",
      "metadata": {
        "id": "mwk3T5LJOIVN",
        "colab_type": "text"
      },
      "source": [
        "### Execute the model"
      ]
    },
    {
      "cell_type": "code",
      "metadata": {
        "id": "JNLR8tcBOIVP",
        "colab_type": "code",
        "colab": {
          "base_uri": "https://localhost:8080/",
          "height": 255
        },
        "outputId": "bea47699-005f-4d8f-830f-0036dc8f3ce1"
      },
      "source": [
        "clf.fit(trainX,trainY,batch_size=200,nb_epoch=5,verbose=1,validation_data=(testX,testY))"
      ],
      "execution_count": 171,
      "outputs": [
        {
          "output_type": "stream",
          "text": [
            "/usr/local/lib/python2.7/dist-packages/ipykernel_launcher.py:1: UserWarning: The `nb_epoch` argument in `fit` has been renamed `epochs`.\n",
            "  \"\"\"Entry point for launching an IPython kernel.\n"
          ],
          "name": "stderr"
        },
        {
          "output_type": "stream",
          "text": [
            "Train on 60000 samples, validate on 10000 samples\n",
            "Epoch 1/5\n",
            "60000/60000 [==============================] - 39s 656us/step - loss: 2.3026 - acc: 0.0987 - val_loss: 2.3026 - val_acc: 0.1000\n",
            "Epoch 2/5\n",
            "60000/60000 [==============================] - 38s 632us/step - loss: 2.3026 - acc: 0.0983 - val_loss: 2.3026 - val_acc: 0.1000\n",
            "Epoch 3/5\n",
            "60000/60000 [==============================] - 38s 630us/step - loss: 2.3026 - acc: 0.0983 - val_loss: 2.3026 - val_acc: 0.1000\n",
            "Epoch 4/5\n",
            "60000/60000 [==============================] - 38s 630us/step - loss: 2.3026 - acc: 0.0998 - val_loss: 2.3026 - val_acc: 0.1000\n",
            "Epoch 5/5\n",
            "60000/60000 [==============================] - 38s 630us/step - loss: 2.3026 - acc: 0.0979 - val_loss: 2.3026 - val_acc: 0.1000\n"
          ],
          "name": "stdout"
        },
        {
          "output_type": "execute_result",
          "data": {
            "text/plain": [
              "<keras.callbacks.History at 0x7f7f3d4e6b10>"
            ]
          },
          "metadata": {
            "tags": []
          },
          "execution_count": 171
        }
      ]
    },
    {
      "cell_type": "code",
      "metadata": {
        "id": "PadKaROrhquy",
        "colab_type": "code",
        "colab": {
          "base_uri": "https://localhost:8080/",
          "height": 255
        },
        "outputId": "aad83f37-c7e1-4c55-9a85-78eaa249e6b6"
      },
      "source": [
        "clf.fit(testX,testY,batch_size=200,nb_epoch=5,verbose=1)\n",
        "score=clf.evaluate(testX,testY)\n",
        "print(score)"
      ],
      "execution_count": 190,
      "outputs": [
        {
          "output_type": "stream",
          "text": [
            "/usr/local/lib/python2.7/dist-packages/ipykernel_launcher.py:1: UserWarning: The `nb_epoch` argument in `fit` has been renamed `epochs`.\n",
            "  \"\"\"Entry point for launching an IPython kernel.\n"
          ],
          "name": "stderr"
        },
        {
          "output_type": "stream",
          "text": [
            "Epoch 1/5\n",
            "10000/10000 [==============================] - 7s 735us/step - loss: 2.3029 - acc: 0.0985\n",
            "Epoch 2/5\n",
            "10000/10000 [==============================] - 6s 603us/step - loss: 2.3029 - acc: 0.0971\n",
            "Epoch 3/5\n",
            "10000/10000 [==============================] - 6s 606us/step - loss: 2.3029 - acc: 0.1000\n",
            "Epoch 4/5\n",
            "10000/10000 [==============================] - 6s 601us/step - loss: 2.3029 - acc: 0.0963\n",
            "Epoch 5/5\n",
            "10000/10000 [==============================] - 6s 605us/step - loss: 2.3029 - acc: 0.0990\n",
            "10000/10000 [==============================] - 3s 319us/step\n",
            "[2.30260562210083, 0.1]\n"
          ],
          "name": "stdout"
        }
      ]
    },
    {
      "cell_type": "markdown",
      "metadata": {
        "id": "Py-KwkmjOIVU",
        "colab_type": "text"
      },
      "source": [
        "### Customize the learning rate to 0.001 in sgd optimizer and run the model"
      ]
    },
    {
      "cell_type": "code",
      "metadata": {
        "id": "yLXUE9jWOIVV",
        "colab_type": "code",
        "colab": {}
      },
      "source": [
        "clf1 = Sequential()\n",
        "clf1.add(InputLayer(input_shape=(28, 28,1)))\n",
        "\n",
        "# Normalize the activations of the previous layer at each batch.\n",
        "clf1.add(BatchNormalization())\n",
        "\n",
        "# Next step is to add convolution layer to model.\n",
        "clf1.add(Conv2D(   32, (2, 2),     padding='same', kernel_initializer='random_uniform' )\n",
        "       )\n",
        "# Add max pooling layer for 2D data.\n",
        "clf1.add(MaxPooling2D(padding='same'))\n",
        "# Add this same two layers to model.\n",
        "clf1.add(  Conv2D(     32,      (2, 2),       padding='same',       kernel_initializer='random_uniform',      input_shape=(28, 28,1)   ))\n",
        "\n",
        "clf1.add(MaxPooling2D(padding='same'))\n",
        "clf1.add(Flatten())\n",
        "\n",
        "# Last step is creation of fully-connected layers.\n",
        "clf1.add( Dense(   128,       activation='relu',     kernel_initializer='random_uniform',         ))\n",
        "\n",
        "# Add output layer, which contains ten numbers.\n",
        "# Each number represents cloth type.\n",
        "clf1.add(Dense(10, activation='softmax'))\n",
        "\n",
        "#optimize sgd to learning rate to 0.001\n",
        "opt = SGD(lr=0.001, momentum=0.9)\n",
        "\n",
        "# Last step in Keras is to compile model.\n",
        "clf1.compile(  loss='categorical_crossentropy',  optimizer= opt,   metrics=['accuracy'])"
      ],
      "execution_count": 0,
      "outputs": []
    },
    {
      "cell_type": "code",
      "metadata": {
        "id": "pJUqA5T4OIVc",
        "colab_type": "code",
        "colab": {
          "base_uri": "https://localhost:8080/",
          "height": 255
        },
        "outputId": "1b1923b2-16eb-44e4-d6b2-642374543fa5"
      },
      "source": [
        "clf1.fit(trainX,trainY,batch_size=200,nb_epoch=5,verbose=1,validation_data=(testX,testY))"
      ],
      "execution_count": 180,
      "outputs": [
        {
          "output_type": "stream",
          "text": [
            "/usr/local/lib/python2.7/dist-packages/ipykernel_launcher.py:1: UserWarning: The `nb_epoch` argument in `fit` has been renamed `epochs`.\n",
            "  \"\"\"Entry point for launching an IPython kernel.\n"
          ],
          "name": "stderr"
        },
        {
          "output_type": "stream",
          "text": [
            "Train on 60000 samples, validate on 10000 samples\n",
            "Epoch 1/5\n",
            "60000/60000 [==============================] - 39s 657us/step - loss: 2.3026 - acc: 0.0983 - val_loss: 2.3026 - val_acc: 0.1000\n",
            "Epoch 2/5\n",
            "60000/60000 [==============================] - 38s 630us/step - loss: 2.3026 - acc: 0.0975 - val_loss: 2.3026 - val_acc: 0.1000\n",
            "Epoch 3/5\n",
            "60000/60000 [==============================] - 38s 629us/step - loss: 2.3026 - acc: 0.0974 - val_loss: 2.3026 - val_acc: 0.1000\n",
            "Epoch 4/5\n",
            "60000/60000 [==============================] - 38s 629us/step - loss: 2.3026 - acc: 0.0995 - val_loss: 2.3026 - val_acc: 0.1000\n",
            "Epoch 5/5\n",
            "60000/60000 [==============================] - 38s 631us/step - loss: 2.3026 - acc: 0.0985 - val_loss: 2.3026 - val_acc: 0.1000\n"
          ],
          "name": "stdout"
        },
        {
          "output_type": "execute_result",
          "data": {
            "text/plain": [
              "<keras.callbacks.History at 0x7f7f3cc0e450>"
            ]
          },
          "metadata": {
            "tags": []
          },
          "execution_count": 180
        }
      ]
    },
    {
      "cell_type": "code",
      "metadata": {
        "id": "9CYJSfptixQ8",
        "colab_type": "code",
        "colab": {
          "base_uri": "https://localhost:8080/",
          "height": 275
        },
        "outputId": "d4cb50e1-b21f-4508-9ef6-7d716e299935"
      },
      "source": [
        "clf1.fit(testX,testY,batch_size=200,nb_epoch=5,verbose=1)\n",
        "score=clf1.evaluate(testX,testY)\n",
        "print(score)"
      ],
      "execution_count": 189,
      "outputs": [
        {
          "output_type": "stream",
          "text": [
            "Epoch 1/5\n",
            "\r  200/10000 [..............................] - ETA: 6s - loss: 2.3026 - acc: 0.0900"
          ],
          "name": "stdout"
        },
        {
          "output_type": "stream",
          "text": [
            "/usr/local/lib/python2.7/dist-packages/ipykernel_launcher.py:1: UserWarning: The `nb_epoch` argument in `fit` has been renamed `epochs`.\n",
            "  \"\"\"Entry point for launching an IPython kernel.\n"
          ],
          "name": "stderr"
        },
        {
          "output_type": "stream",
          "text": [
            "10000/10000 [==============================] - 6s 556us/step - loss: 2.3026 - acc: 0.0955\n",
            "Epoch 2/5\n",
            "10000/10000 [==============================] - 6s 597us/step - loss: 2.3026 - acc: 0.0966\n",
            "Epoch 3/5\n",
            "10000/10000 [==============================] - 6s 591us/step - loss: 2.3026 - acc: 0.0979\n",
            "Epoch 4/5\n",
            "10000/10000 [==============================] - 6s 588us/step - loss: 2.3026 - acc: 0.0975\n",
            "Epoch 5/5\n",
            "10000/10000 [==============================] - 6s 594us/step - loss: 2.3026 - acc: 0.0953\n",
            "10000/10000 [==============================] - 3s 267us/step\n",
            "[2.3025853347778322, 0.1]\n"
          ],
          "name": "stdout"
        }
      ]
    },
    {
      "cell_type": "markdown",
      "metadata": {
        "id": "j9CSqKvpOIVk",
        "colab_type": "text"
      },
      "source": [
        "### Build the Neural Network model with 3 Dense layers with 100,100,10 neurons respectively in each layer. Use cross entropy loss function and singmoid as activation in the hidden layers and softmax as activation function in the output layer. Use sgd optimizer with learning rate 0.03."
      ]
    },
    {
      "cell_type": "code",
      "metadata": {
        "id": "GGAad54JOIVm",
        "colab_type": "code",
        "colab": {}
      },
      "source": [
        "clf2 = Sequential()\n",
        "clf2.add(InputLayer(input_shape=(28, 28,1)))\n",
        "\n",
        "# Normalize the activations of the previous layer at each batch.\n",
        "clf2.add(BatchNormalization())\n",
        "\n",
        "# Next step is to add convolution layer to model.\n",
        "clf2.add(Conv2D(   32, (2, 2),     padding='same', kernel_initializer='random_uniform' )\n",
        "       )\n",
        "# Add max pooling layer for 2D data.\n",
        "clf2.add(MaxPooling2D(padding='same'))\n",
        "# Add this same two layers to model.\n",
        "clf2.add(  Conv2D(     32,      (2, 2),       padding='same',       kernel_initializer='random_uniform',      input_shape=(28, 28,1)   ))\n",
        "\n",
        "clf2.add(MaxPooling2D(padding='same'))\n",
        "clf2.add(Flatten())\n",
        "\n",
        "# Last step is creation of fully-connected layers. dense layer 1 \n",
        "clf2.add( Dense(   100,       activation='sigmoid',     kernel_initializer='random_uniform',         ))\n",
        "\n",
        "#dense layer 2\n",
        "clf2.add( Dense(   100,       activation='sigmoid',     kernel_initializer='random_uniform',         ))\n",
        "\n",
        "# Add output layer, which contains ten numbers.\n",
        "# Each number represents cloth type.\n",
        "clf2.add(Dense(10, activation='softmax'))\n",
        "\n",
        "#optimize sgd to learning rate to 0.03\n",
        "opt = SGD(lr=0.03, momentum=0.9)\n",
        "\n",
        "# Last step in Keras is to compile model.\n",
        "clf2.compile(  loss='categorical_crossentropy',  optimizer= opt,   metrics=['accuracy'])"
      ],
      "execution_count": 0,
      "outputs": []
    },
    {
      "cell_type": "markdown",
      "metadata": {
        "id": "Nr2YsZV0OIV0",
        "colab_type": "text"
      },
      "source": [
        "## Review model"
      ]
    },
    {
      "cell_type": "code",
      "metadata": {
        "id": "h4ojW6-oOIV2",
        "colab_type": "code",
        "colab": {
          "base_uri": "https://localhost:8080/",
          "height": 255
        },
        "outputId": "5b6f6b9b-28d5-43a3-a9ff-51621014babc"
      },
      "source": [
        "clf2.fit(trainX,trainY,batch_size=200,nb_epoch=5,verbose=1,validation_data=(testX,testY))"
      ],
      "execution_count": 185,
      "outputs": [
        {
          "output_type": "stream",
          "text": [
            "/usr/local/lib/python2.7/dist-packages/ipykernel_launcher.py:1: UserWarning: The `nb_epoch` argument in `fit` has been renamed `epochs`.\n",
            "  \"\"\"Entry point for launching an IPython kernel.\n"
          ],
          "name": "stderr"
        },
        {
          "output_type": "stream",
          "text": [
            "Train on 60000 samples, validate on 10000 samples\n",
            "Epoch 1/5\n",
            "60000/60000 [==============================] - 40s 662us/step - loss: 2.3154 - acc: 0.1002 - val_loss: 2.3090 - val_acc: 0.1000\n",
            "Epoch 2/5\n",
            "60000/60000 [==============================] - 38s 633us/step - loss: 2.3097 - acc: 0.0999 - val_loss: 2.3050 - val_acc: 0.1000\n",
            "Epoch 3/5\n",
            "60000/60000 [==============================] - 38s 631us/step - loss: 2.3082 - acc: 0.1027 - val_loss: 2.3096 - val_acc: 0.1000\n",
            "Epoch 4/5\n",
            "60000/60000 [==============================] - 38s 632us/step - loss: 2.3075 - acc: 0.0990 - val_loss: 2.3128 - val_acc: 0.1000\n",
            "Epoch 5/5\n",
            "60000/60000 [==============================] - 38s 635us/step - loss: 2.3070 - acc: 0.1014 - val_loss: 2.3054 - val_acc: 0.1000\n"
          ],
          "name": "stdout"
        },
        {
          "output_type": "execute_result",
          "data": {
            "text/plain": [
              "<keras.callbacks.History at 0x7f7f3c756fd0>"
            ]
          },
          "metadata": {
            "tags": []
          },
          "execution_count": 185
        }
      ]
    },
    {
      "cell_type": "markdown",
      "metadata": {
        "id": "gfFGmbZLOIV5",
        "colab_type": "text"
      },
      "source": [
        "### Run the model"
      ]
    },
    {
      "cell_type": "code",
      "metadata": {
        "id": "bIkbMEN5OIV7",
        "colab_type": "code",
        "colab": {
          "base_uri": "https://localhost:8080/",
          "height": 258
        },
        "outputId": "ad21ec3f-9016-4e89-81ac-14b8351e36c0"
      },
      "source": [
        "clf2.fit(testX,testY,batch_size=200,nb_epoch=5,verbose=1)"
      ],
      "execution_count": 187,
      "outputs": [
        {
          "output_type": "stream",
          "text": [
            "Epoch 1/5\n",
            "\r  200/10000 [..............................] - ETA: 6s - loss: 2.3028 - acc: 0.1300"
          ],
          "name": "stdout"
        },
        {
          "output_type": "stream",
          "text": [
            "/usr/local/lib/python2.7/dist-packages/ipykernel_launcher.py:1: UserWarning: The `nb_epoch` argument in `fit` has been renamed `epochs`.\n",
            "  \"\"\"Entry point for launching an IPython kernel.\n"
          ],
          "name": "stderr"
        },
        {
          "output_type": "stream",
          "text": [
            "10000/10000 [==============================] - 6s 596us/step - loss: 2.3054 - acc: 0.0986\n",
            "Epoch 2/5\n",
            "10000/10000 [==============================] - 6s 595us/step - loss: 2.3054 - acc: 0.0996\n",
            "Epoch 3/5\n",
            "10000/10000 [==============================] - 6s 596us/step - loss: 2.3055 - acc: 0.0980\n",
            "Epoch 4/5\n",
            "10000/10000 [==============================] - 6s 596us/step - loss: 2.3063 - acc: 0.0954\n",
            "Epoch 5/5\n",
            "10000/10000 [==============================] - 6s 598us/step - loss: 2.3043 - acc: 0.1006\n"
          ],
          "name": "stdout"
        },
        {
          "output_type": "execute_result",
          "data": {
            "text/plain": [
              "<keras.callbacks.History at 0x7f7f3d1db490>"
            ]
          },
          "metadata": {
            "tags": []
          },
          "execution_count": 187
        }
      ]
    },
    {
      "cell_type": "code",
      "metadata": {
        "id": "jCUimVdxj40d",
        "colab_type": "code",
        "colab": {
          "base_uri": "https://localhost:8080/",
          "height": 51
        },
        "outputId": "48867bd5-13bd-4fc2-bb7c-cd73632694f1"
      },
      "source": [
        "score=clf2.evaluate(testX,testY)\n",
        "print(score)"
      ],
      "execution_count": 188,
      "outputs": [
        {
          "output_type": "stream",
          "text": [
            "10000/10000 [==============================] - 3s 292us/step\n",
            "[2.303945558166504, 0.1]\n"
          ],
          "name": "stdout"
        }
      ]
    }
  ]
}